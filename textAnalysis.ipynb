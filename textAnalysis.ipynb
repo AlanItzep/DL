{
  "nbformat": 4,
  "nbformat_minor": 0,
  "metadata": {
    "colab": {
      "name": "textAnalysis.ipynb",
      "version": "0.3.2",
      "provenance": [],
      "include_colab_link": true
    },
    "kernelspec": {
      "name": "python3",
      "display_name": "Python 3"
    }
  },
  "cells": [
    {
      "cell_type": "markdown",
      "metadata": {
        "id": "view-in-github",
        "colab_type": "text"
      },
      "source": [
        "<a href=\"https://colab.research.google.com/github/AlanItzep/DL/blob/master/textAnalysis.ipynb\" target=\"_parent\"><img src=\"https://colab.research.google.com/assets/colab-badge.svg\" alt=\"Open In Colab\"/></a>"
      ]
    },
    {
      "cell_type": "code",
      "metadata": {
        "id": "hMuTPJYH3sTn",
        "colab_type": "code",
        "outputId": "2e23329a-a3b9-43d8-ddf1-e519c052c1bb",
        "colab": {
          "base_uri": "https://localhost:8080/",
          "height": 108
        }
      },
      "source": [
        "!pip install -q tf_nightly"
      ],
      "execution_count": 0,
      "outputs": [
        {
          "output_type": "stream",
          "text": [
            "\u001b[K     |████████████████████████████████| 101.4MB 103kB/s \n",
            "\u001b[K     |████████████████████████████████| 61kB 20.6MB/s \n",
            "\u001b[K     |████████████████████████████████| 501kB 42.0MB/s \n",
            "\u001b[K     |████████████████████████████████| 3.2MB 38.1MB/s \n",
            "\u001b[?25h  Building wheel for opt-einsum (setup.py) ... \u001b[?25l\u001b[?25hdone\n"
          ],
          "name": "stdout"
        }
      ]
    },
    {
      "cell_type": "code",
      "metadata": {
        "id": "5-cWjAAl5QuV",
        "colab_type": "code",
        "outputId": "f7e5eb54-7b25-46cc-ed85-1edb72147fa2",
        "colab": {
          "base_uri": "https://localhost:8080/",
          "height": 35
        }
      },
      "source": [
        "from __future__ import absolute_import, division, print_function,unicode_literals\n",
        "import tensorflow as tf\n",
        "from tensorflow import keras\n",
        "\n",
        "import numpy as np\n",
        "print(tf.__version__)"
      ],
      "execution_count": 0,
      "outputs": [
        {
          "output_type": "stream",
          "text": [
            "1.15.0-dev20190711\n"
          ],
          "name": "stdout"
        }
      ]
    },
    {
      "cell_type": "code",
      "metadata": {
        "id": "yDmXhU475lMg",
        "colab_type": "code",
        "outputId": "03acf728-cb85-485b-9a49-2386c59505a4",
        "colab": {
          "base_uri": "https://localhost:8080/",
          "height": 73
        }
      },
      "source": [
        "imdb = keras.datasets.imdb\n",
        "(train_data, train_labels), (test_data, test_labels)=imdb.load_data(num_words=10000)"
      ],
      "execution_count": 0,
      "outputs": [
        {
          "output_type": "stream",
          "text": [
            "Downloading data from https://storage.googleapis.com/tensorflow/tf-keras-datasets/imdb.npz\n",
            "17465344/17464789 [==============================] - 0s 0us/step\n"
          ],
          "name": "stdout"
        }
      ]
    },
    {
      "cell_type": "code",
      "metadata": {
        "id": "ombLk_6X5pju",
        "colab_type": "code",
        "outputId": "c4d266c1-1d3a-44bf-aecf-027d342212dc",
        "colab": {
          "base_uri": "https://localhost:8080/",
          "height": 35
        }
      },
      "source": [
        "print('Training entries; {},labels:{}'.format(len(train_data), len(train_labels)))"
      ],
      "execution_count": 0,
      "outputs": [
        {
          "output_type": "stream",
          "text": [
            "Training entries; 25000,labels:25000\n"
          ],
          "name": "stdout"
        }
      ]
    },
    {
      "cell_type": "code",
      "metadata": {
        "id": "yvhFxogm6UgZ",
        "colab_type": "code",
        "outputId": "38b1e1cc-cc94-442a-a145-fb0770fcd160",
        "colab": {
          "base_uri": "https://localhost:8080/",
          "height": 55
        }
      },
      "source": [
        "print(train_data[0])"
      ],
      "execution_count": 0,
      "outputs": [
        {
          "output_type": "stream",
          "text": [
            "[1, 14, 22, 16, 43, 530, 973, 1622, 1385, 65, 458, 4468, 66, 3941, 4, 173, 36, 256, 5, 25, 100, 43, 838, 112, 50, 670, 2, 9, 35, 480, 284, 5, 150, 4, 172, 112, 167, 2, 336, 385, 39, 4, 172, 4536, 1111, 17, 546, 38, 13, 447, 4, 192, 50, 16, 6, 147, 2025, 19, 14, 22, 4, 1920, 4613, 469, 4, 22, 71, 87, 12, 16, 43, 530, 38, 76, 15, 13, 1247, 4, 22, 17, 515, 17, 12, 16, 626, 18, 2, 5, 62, 386, 12, 8, 316, 8, 106, 5, 4, 2223, 5244, 16, 480, 66, 3785, 33, 4, 130, 12, 16, 38, 619, 5, 25, 124, 51, 36, 135, 48, 25, 1415, 33, 6, 22, 12, 215, 28, 77, 52, 5, 14, 407, 16, 82, 2, 8, 4, 107, 117, 5952, 15, 256, 4, 2, 7, 3766, 5, 723, 36, 71, 43, 530, 476, 26, 400, 317, 46, 7, 4, 2, 1029, 13, 104, 88, 4, 381, 15, 297, 98, 32, 2071, 56, 26, 141, 6, 194, 7486, 18, 4, 226, 22, 21, 134, 476, 26, 480, 5, 144, 30, 5535, 18, 51, 36, 28, 224, 92, 25, 104, 4, 226, 65, 16, 38, 1334, 88, 12, 16, 283, 5, 16, 4472, 113, 103, 32, 15, 16, 5345, 19, 178, 32]\n"
          ],
          "name": "stdout"
        }
      ]
    },
    {
      "cell_type": "code",
      "metadata": {
        "id": "UppwxIrj6ZUj",
        "colab_type": "code",
        "outputId": "0074d632-75aa-4d1e-bf8c-307ba524b915",
        "colab": {
          "base_uri": "https://localhost:8080/",
          "height": 35
        }
      },
      "source": [
        "len(train_data[0]),len(train_data[1])"
      ],
      "execution_count": 0,
      "outputs": [
        {
          "output_type": "execute_result",
          "data": {
            "text/plain": [
              "(218, 189)"
            ]
          },
          "metadata": {
            "tags": []
          },
          "execution_count": 7
        }
      ]
    },
    {
      "cell_type": "code",
      "metadata": {
        "id": "xLtIV2BK6fgS",
        "colab_type": "code",
        "outputId": "2cda0cc9-5765-4772-a8ef-e2faf1f499d4",
        "colab": {
          "base_uri": "https://localhost:8080/",
          "height": 73
        }
      },
      "source": [
        "word_index=imdb.get_word_index()\n",
        "\n",
        "word_index={k:(v+3) for k,v in word_index.items()}\n",
        "word_index[\"<PAD>\"] = 0\n",
        "word_index[\"<START>\"] = 1\n",
        "word_index[\"<UNK>\"] = 2  # unknown\n",
        "word_index[\"<UNUSED>\"] = 3\n",
        "\n",
        "reverse_word_index = dict([(value, key) for (key, value) in word_index.items()])\n",
        "\n",
        "def decode_review(text):\n",
        "    return ' '.join([reverse_word_index.get(i, '?') for i in text])\n"
      ],
      "execution_count": 0,
      "outputs": [
        {
          "output_type": "stream",
          "text": [
            "Downloading data from https://storage.googleapis.com/tensorflow/tf-keras-datasets/imdb_word_index.json\n",
            "1646592/1641221 [==============================] - 0s 0us/step\n"
          ],
          "name": "stdout"
        }
      ]
    },
    {
      "cell_type": "code",
      "metadata": {
        "id": "EZzEHyaN6qTN",
        "colab_type": "code",
        "outputId": "77a03169-3a60-4c4c-9e32-c0b68bc283ef",
        "colab": {
          "base_uri": "https://localhost:8080/",
          "height": 55
        }
      },
      "source": [
        "decode_review(train_data[0])\n"
      ],
      "execution_count": 0,
      "outputs": [
        {
          "output_type": "execute_result",
          "data": {
            "text/plain": [
              "\"<START> this film was just brilliant casting location scenery story direction everyone's really suited the part they played and you could just imagine being there robert <UNK> is an amazing actor and now the same being director <UNK> father came from the same scottish island as myself so i loved the fact there was a real connection with this film the witty remarks throughout the film were great it was just brilliant so much that i bought the film as soon as it was released for <UNK> and would recommend it to everyone to watch and the fly fishing was amazing really cried at the end it was so sad and you know what they say if you cry at a film it must have been good and this definitely was also <UNK> to the two little boy's that played the <UNK> of norman and paul they were just brilliant children are often left out of the <UNK> list i think because the stars that play them all grown up are such a big profile for the whole film but these children are amazing and should be praised for what they have done don't you think the whole story was so lovely because it was true and was someone's life after all that was shared with us all\""
            ]
          },
          "metadata": {
            "tags": []
          },
          "execution_count": 9
        }
      ]
    },
    {
      "cell_type": "code",
      "metadata": {
        "id": "PuMrDSee6tO7",
        "colab_type": "code",
        "colab": {}
      },
      "source": [
        "train_data = keras.preprocessing.sequence.pad_sequences(train_data,\n",
        "                                                        value=word_index[\"<PAD>\"],\n",
        "                                                        padding='post',\n",
        "                                                        maxlen=256)\n",
        "test_data = keras.preprocessing.sequence.pad_sequences(test_data,\n",
        "                                                       value=word_index[\"<PAD>\"],\n",
        "                                                       padding='post',\n",
        "                                                       maxlen=256)"
      ],
      "execution_count": 0,
      "outputs": []
    },
    {
      "cell_type": "code",
      "metadata": {
        "id": "FJDc0Vd7Nauw",
        "colab_type": "code",
        "outputId": "d97f6216-7807-436e-9922-0cb8c2707bf1",
        "colab": {
          "base_uri": "https://localhost:8080/",
          "height": 35
        }
      },
      "source": [
        "len(train_data[0]), len(train_data[1])"
      ],
      "execution_count": 0,
      "outputs": [
        {
          "output_type": "execute_result",
          "data": {
            "text/plain": [
              "(256, 256)"
            ]
          },
          "metadata": {
            "tags": []
          },
          "execution_count": 11
        }
      ]
    },
    {
      "cell_type": "code",
      "metadata": {
        "id": "Jsfyk_dHN9he",
        "colab_type": "code",
        "outputId": "9cdc7671-ffd6-4153-b471-f639de0e84ec",
        "colab": {
          "base_uri": "https://localhost:8080/",
          "height": 362
        }
      },
      "source": [
        "print(train_data[0])"
      ],
      "execution_count": 0,
      "outputs": [
        {
          "output_type": "stream",
          "text": [
            "[   1   14   22   16   43  530  973 1622 1385   65  458 4468   66 3941\n",
            "    4  173   36  256    5   25  100   43  838  112   50  670    2    9\n",
            "   35  480  284    5  150    4  172  112  167    2  336  385   39    4\n",
            "  172 4536 1111   17  546   38   13  447    4  192   50   16    6  147\n",
            " 2025   19   14   22    4 1920 4613  469    4   22   71   87   12   16\n",
            "   43  530   38   76   15   13 1247    4   22   17  515   17   12   16\n",
            "  626   18    2    5   62  386   12    8  316    8  106    5    4 2223\n",
            " 5244   16  480   66 3785   33    4  130   12   16   38  619    5   25\n",
            "  124   51   36  135   48   25 1415   33    6   22   12  215   28   77\n",
            "   52    5   14  407   16   82    2    8    4  107  117 5952   15  256\n",
            "    4    2    7 3766    5  723   36   71   43  530  476   26  400  317\n",
            "   46    7    4    2 1029   13  104   88    4  381   15  297   98   32\n",
            " 2071   56   26  141    6  194 7486   18    4  226   22   21  134  476\n",
            "   26  480    5  144   30 5535   18   51   36   28  224   92   25  104\n",
            "    4  226   65   16   38 1334   88   12   16  283    5   16 4472  113\n",
            "  103   32   15   16 5345   19  178   32    0    0    0    0    0    0\n",
            "    0    0    0    0    0    0    0    0    0    0    0    0    0    0\n",
            "    0    0    0    0    0    0    0    0    0    0    0    0    0    0\n",
            "    0    0    0    0]\n"
          ],
          "name": "stdout"
        }
      ]
    },
    {
      "cell_type": "code",
      "metadata": {
        "id": "VYojB3f8OeyN",
        "colab_type": "code",
        "outputId": "340007c8-1d1d-4c08-edf6-ff9d66ec90e6",
        "colab": {
          "base_uri": "https://localhost:8080/",
          "height": 455
        }
      },
      "source": [
        "vocab_size=10000\n",
        "\n",
        "model = keras.Sequential()\n",
        "model.add(keras.layers.Embedding(vocab_size, 16))\n",
        "model.add(keras.layers.GlobalAveragePooling1D())\n",
        "model.add(keras.layers.Dense(16,activation=tf.nn.relu))\n",
        "model.add(keras.layers.Dense(1,activation=tf.nn.sigmoid))\n",
        "\n",
        "model.summary()"
      ],
      "execution_count": 0,
      "outputs": [
        {
          "output_type": "stream",
          "text": [
            "WARNING: Logging before flag parsing goes to stderr.\n",
            "W0711 21:10:08.843411 140038701528960 deprecation.py:506] From /usr/local/lib/python3.6/dist-packages/tensorflow_core/python/keras/initializers.py:119: calling RandomUniform.__init__ (from tensorflow.python.ops.init_ops) with dtype is deprecated and will be removed in a future version.\n",
            "Instructions for updating:\n",
            "Call initializer instance with the dtype argument instead of passing it to the constructor\n",
            "W0711 21:10:08.867898 140038701528960 deprecation.py:506] From /usr/local/lib/python3.6/dist-packages/tensorflow_core/python/ops/resource_variable_ops.py:1628: calling BaseResourceVariable.__init__ (from tensorflow.python.ops.resource_variable_ops) with constraint is deprecated and will be removed in a future version.\n",
            "Instructions for updating:\n",
            "If using Keras pass *_constraint arguments to layers.\n"
          ],
          "name": "stderr"
        },
        {
          "output_type": "stream",
          "text": [
            "Model: \"sequential\"\n",
            "_________________________________________________________________\n",
            "Layer (type)                 Output Shape              Param #   \n",
            "=================================================================\n",
            "embedding (Embedding)        (None, None, 16)          160000    \n",
            "_________________________________________________________________\n",
            "global_average_pooling1d (Gl (None, 16)                0         \n",
            "_________________________________________________________________\n",
            "dense (Dense)                (None, 16)                272       \n",
            "_________________________________________________________________\n",
            "dense_1 (Dense)              (None, 1)                 17        \n",
            "=================================================================\n",
            "Total params: 160,289\n",
            "Trainable params: 160,289\n",
            "Non-trainable params: 0\n",
            "_________________________________________________________________\n"
          ],
          "name": "stdout"
        }
      ]
    },
    {
      "cell_type": "code",
      "metadata": {
        "id": "ZaFpOFxzRPyJ",
        "colab_type": "code",
        "outputId": "7fcc5549-876c-4cfc-c538-fde9ce25aef5",
        "colab": {
          "base_uri": "https://localhost:8080/",
          "height": 92
        }
      },
      "source": [
        "model.compile(optimizer='adam',\n",
        "              loss='binary_crossentropy',\n",
        "              metrics=['acc'])"
      ],
      "execution_count": 0,
      "outputs": [
        {
          "output_type": "stream",
          "text": [
            "W0711 21:10:08.971984 140038701528960 deprecation.py:323] From /usr/local/lib/python3.6/dist-packages/tensorflow_core/python/ops/nn_impl.py:183: where (from tensorflow.python.ops.array_ops) is deprecated and will be removed in a future version.\n",
            "Instructions for updating:\n",
            "Use tf.where in 2.0, which has the same broadcast rule as np.where\n"
          ],
          "name": "stderr"
        }
      ]
    },
    {
      "cell_type": "code",
      "metadata": {
        "id": "5KexLy3g3m7o",
        "colab_type": "code",
        "colab": {}
      },
      "source": [
        "x_val=train_data[:10000]\n",
        "partial_x_train=train_data[10000:]\n",
        "\n",
        "y_val=train_labels[:10000]\n",
        "partial_y_train=train_labels[10000:]"
      ],
      "execution_count": 0,
      "outputs": []
    },
    {
      "cell_type": "code",
      "metadata": {
        "id": "Wbirc3iT4M4v",
        "colab_type": "code",
        "outputId": "9fccdf59-c918-4a1c-e28c-ac568f0229a9",
        "colab": {
          "base_uri": "https://localhost:8080/",
          "height": 1000
        }
      },
      "source": [
        "history=model.fit(partial_x_train,\n",
        "                  partial_y_train,\n",
        "                  epochs=40,\n",
        "                  batch_size=512,\n",
        "                  validation_data=(x_val,y_val),\n",
        "                  verbose=1)"
      ],
      "execution_count": 0,
      "outputs": [
        {
          "output_type": "stream",
          "text": [
            "W0711 21:14:55.059826 140038701528960 deprecation.py:323] From /usr/local/lib/python3.6/dist-packages/tensorflow_core/python/keras/optimizer_v2/optimizer_v2.py:454: BaseResourceVariable.constraint (from tensorflow.python.ops.resource_variable_ops) is deprecated and will be removed in a future version.\n",
            "Instructions for updating:\n",
            "Apply a constraint manually following the optimizer update step.\n"
          ],
          "name": "stderr"
        },
        {
          "output_type": "stream",
          "text": [
            "Train on 15000 samples, validate on 10000 samples\n",
            "Epoch 1/40\n",
            "15000/15000 [==============================] - 1s 55us/sample - loss: 0.6919 - acc: 0.6012 - val_loss: 0.6901 - val_acc: 0.6631\n",
            "Epoch 2/40\n",
            "15000/15000 [==============================] - 1s 46us/sample - loss: 0.6867 - acc: 0.6933 - val_loss: 0.6825 - val_acc: 0.7299\n",
            "Epoch 3/40\n",
            "15000/15000 [==============================] - 1s 48us/sample - loss: 0.6748 - acc: 0.7463 - val_loss: 0.6676 - val_acc: 0.7371\n",
            "Epoch 4/40\n",
            "15000/15000 [==============================] - 1s 47us/sample - loss: 0.6543 - acc: 0.7619 - val_loss: 0.6440 - val_acc: 0.7408\n",
            "Epoch 5/40\n",
            "15000/15000 [==============================] - 1s 45us/sample - loss: 0.6237 - acc: 0.7855 - val_loss: 0.6115 - val_acc: 0.7753\n",
            "Epoch 6/40\n",
            "15000/15000 [==============================] - 1s 48us/sample - loss: 0.5836 - acc: 0.8084 - val_loss: 0.5718 - val_acc: 0.8019\n",
            "Epoch 7/40\n",
            "15000/15000 [==============================] - 1s 46us/sample - loss: 0.5371 - acc: 0.8272 - val_loss: 0.5277 - val_acc: 0.8175\n",
            "Epoch 8/40\n",
            "15000/15000 [==============================] - 1s 46us/sample - loss: 0.4894 - acc: 0.8434 - val_loss: 0.4860 - val_acc: 0.8300\n",
            "Epoch 9/40\n",
            "15000/15000 [==============================] - 1s 46us/sample - loss: 0.4444 - acc: 0.8586 - val_loss: 0.4479 - val_acc: 0.8425\n",
            "Epoch 10/40\n",
            "15000/15000 [==============================] - 1s 48us/sample - loss: 0.4043 - acc: 0.8713 - val_loss: 0.4163 - val_acc: 0.8493\n",
            "Epoch 11/40\n",
            "15000/15000 [==============================] - 1s 47us/sample - loss: 0.3702 - acc: 0.8798 - val_loss: 0.3900 - val_acc: 0.8590\n",
            "Epoch 12/40\n",
            "15000/15000 [==============================] - 1s 47us/sample - loss: 0.3416 - acc: 0.8875 - val_loss: 0.3698 - val_acc: 0.8604\n",
            "Epoch 13/40\n",
            "15000/15000 [==============================] - 1s 48us/sample - loss: 0.3182 - acc: 0.8931 - val_loss: 0.3520 - val_acc: 0.8678\n",
            "Epoch 14/40\n",
            "15000/15000 [==============================] - 1s 48us/sample - loss: 0.2972 - acc: 0.8995 - val_loss: 0.3391 - val_acc: 0.8711\n",
            "Epoch 15/40\n",
            "15000/15000 [==============================] - 1s 47us/sample - loss: 0.2798 - acc: 0.9032 - val_loss: 0.3284 - val_acc: 0.8727\n",
            "Epoch 16/40\n",
            "15000/15000 [==============================] - 1s 47us/sample - loss: 0.2642 - acc: 0.9084 - val_loss: 0.3195 - val_acc: 0.8737\n",
            "Epoch 17/40\n",
            "15000/15000 [==============================] - 1s 47us/sample - loss: 0.2498 - acc: 0.9133 - val_loss: 0.3121 - val_acc: 0.8769\n",
            "Epoch 18/40\n",
            "15000/15000 [==============================] - 1s 49us/sample - loss: 0.2371 - acc: 0.9181 - val_loss: 0.3057 - val_acc: 0.8801\n",
            "Epoch 19/40\n",
            "15000/15000 [==============================] - 1s 48us/sample - loss: 0.2257 - acc: 0.9208 - val_loss: 0.3004 - val_acc: 0.8813\n",
            "Epoch 20/40\n",
            "15000/15000 [==============================] - 1s 47us/sample - loss: 0.2154 - acc: 0.9250 - val_loss: 0.2967 - val_acc: 0.8805\n",
            "Epoch 21/40\n",
            "15000/15000 [==============================] - 1s 48us/sample - loss: 0.2051 - acc: 0.9308 - val_loss: 0.2935 - val_acc: 0.8818\n",
            "Epoch 22/40\n",
            "15000/15000 [==============================] - 1s 48us/sample - loss: 0.1963 - acc: 0.9331 - val_loss: 0.2908 - val_acc: 0.8837\n",
            "Epoch 23/40\n",
            "15000/15000 [==============================] - 1s 48us/sample - loss: 0.1875 - acc: 0.9378 - val_loss: 0.2895 - val_acc: 0.8833\n",
            "Epoch 24/40\n",
            "15000/15000 [==============================] - 1s 49us/sample - loss: 0.1799 - acc: 0.9409 - val_loss: 0.2876 - val_acc: 0.8839\n",
            "Epoch 25/40\n",
            "15000/15000 [==============================] - 1s 49us/sample - loss: 0.1721 - acc: 0.9453 - val_loss: 0.2861 - val_acc: 0.8842\n",
            "Epoch 26/40\n",
            "15000/15000 [==============================] - 1s 49us/sample - loss: 0.1652 - acc: 0.9475 - val_loss: 0.2864 - val_acc: 0.8835\n",
            "Epoch 27/40\n",
            "15000/15000 [==============================] - 1s 49us/sample - loss: 0.1586 - acc: 0.9499 - val_loss: 0.2859 - val_acc: 0.8833\n",
            "Epoch 28/40\n",
            "15000/15000 [==============================] - 1s 47us/sample - loss: 0.1523 - acc: 0.9530 - val_loss: 0.2859 - val_acc: 0.8850\n",
            "Epoch 29/40\n",
            "15000/15000 [==============================] - 1s 48us/sample - loss: 0.1469 - acc: 0.9557 - val_loss: 0.2876 - val_acc: 0.8829\n",
            "Epoch 30/40\n",
            "15000/15000 [==============================] - 1s 47us/sample - loss: 0.1411 - acc: 0.9573 - val_loss: 0.2868 - val_acc: 0.8857\n",
            "Epoch 31/40\n",
            "15000/15000 [==============================] - 1s 48us/sample - loss: 0.1353 - acc: 0.9600 - val_loss: 0.2877 - val_acc: 0.8857\n",
            "Epoch 32/40\n",
            "15000/15000 [==============================] - 1s 49us/sample - loss: 0.1300 - acc: 0.9623 - val_loss: 0.2891 - val_acc: 0.8858\n",
            "Epoch 33/40\n",
            "15000/15000 [==============================] - 1s 49us/sample - loss: 0.1250 - acc: 0.9641 - val_loss: 0.2912 - val_acc: 0.8849\n",
            "Epoch 34/40\n",
            "15000/15000 [==============================] - 1s 49us/sample - loss: 0.1205 - acc: 0.9657 - val_loss: 0.2930 - val_acc: 0.8860\n",
            "Epoch 35/40\n",
            "15000/15000 [==============================] - 1s 50us/sample - loss: 0.1163 - acc: 0.9670 - val_loss: 0.2954 - val_acc: 0.8852\n",
            "Epoch 36/40\n",
            "15000/15000 [==============================] - 1s 48us/sample - loss: 0.1118 - acc: 0.9693 - val_loss: 0.2972 - val_acc: 0.8852\n",
            "Epoch 37/40\n",
            "15000/15000 [==============================] - 1s 47us/sample - loss: 0.1074 - acc: 0.9702 - val_loss: 0.2996 - val_acc: 0.8845\n",
            "Epoch 38/40\n",
            "15000/15000 [==============================] - 1s 48us/sample - loss: 0.1034 - acc: 0.9717 - val_loss: 0.3030 - val_acc: 0.8833\n",
            "Epoch 39/40\n",
            "15000/15000 [==============================] - 1s 48us/sample - loss: 0.1002 - acc: 0.9729 - val_loss: 0.3063 - val_acc: 0.8826\n",
            "Epoch 40/40\n",
            "15000/15000 [==============================] - 1s 48us/sample - loss: 0.0962 - acc: 0.9751 - val_loss: 0.3086 - val_acc: 0.8826\n"
          ],
          "name": "stdout"
        }
      ]
    },
    {
      "cell_type": "code",
      "metadata": {
        "id": "RbnGbUzr45sX",
        "colab_type": "code",
        "outputId": "90ba27e3-ff53-4bfa-b345-390cd5e0be16",
        "colab": {
          "base_uri": "https://localhost:8080/",
          "height": 73
        }
      },
      "source": [
        "results=model.evaluate(test_data,test_labels)\n",
        "print(results)"
      ],
      "execution_count": 0,
      "outputs": [
        {
          "output_type": "stream",
          "text": [
            "25000/25000 [==============================] - 1s 38us/sample - loss: 0.3287 - acc: 0.8726\n",
            "[0.32868080142974854, 0.87256]\n"
          ],
          "name": "stdout"
        }
      ]
    },
    {
      "cell_type": "code",
      "metadata": {
        "id": "RpRRuJn25HJ4",
        "colab_type": "code",
        "outputId": "477a118b-002d-4cfa-eaa3-5b0d62b0b95a",
        "colab": {
          "base_uri": "https://localhost:8080/",
          "height": 35
        }
      },
      "source": [
        "history_dict=history.history\n",
        "history_dict.keys()"
      ],
      "execution_count": 0,
      "outputs": [
        {
          "output_type": "execute_result",
          "data": {
            "text/plain": [
              "dict_keys(['loss', 'acc', 'val_loss', 'val_acc'])"
            ]
          },
          "metadata": {
            "tags": []
          },
          "execution_count": 18
        }
      ]
    },
    {
      "cell_type": "code",
      "metadata": {
        "id": "Wf7ldIvR5aia",
        "colab_type": "code",
        "outputId": "55bef1d7-d1f4-4900-d320-bc355883d5b2",
        "colab": {
          "base_uri": "https://localhost:8080/",
          "height": 295
        }
      },
      "source": [
        "import matplotlib.pyplot as plt\n",
        "\n",
        "acc=history_dict['acc']\n",
        "val_acc=history_dict['val_acc']\n",
        "loss=history_dict['loss']\n",
        "val_loss=history_dict['val_loss']\n",
        "\n",
        "epochs=range(1,len(acc)+1)\n",
        "\n",
        "plt.plot(epochs,loss,'bo',label='Training loss')\n",
        "\n",
        "plt.plot(epochs,val_loss,'b',label='Validation loss')\n",
        "plt.title('Training and validation loss')\n",
        "plt.xlabel('Epochs')\n",
        "plt.ylabel('Loss')\n",
        "plt.legend()\n",
        "\n",
        "plt.show()"
      ],
      "execution_count": 0,
      "outputs": [
        {
          "output_type": "display_data",
          "data": {
            "image/png": "[encoded data removed]",
            "text/plain": [
              "<Figure size 432x288 with 1 Axes>"
            ]
          },
          "metadata": {
            "tags": []
          }
        }
      ]
    },
    {
      "cell_type": "code",
      "metadata": {
        "id": "knAFMFq36lUW",
        "colab_type": "code",
        "outputId": "f231b335-c3b4-40af-954c-b53e2a07a151",
        "colab": {
          "base_uri": "https://localhost:8080/",
          "height": 295
        }
      },
      "source": [
        "plt.clf()\n",
        "\n",
        "plt.plot(epochs,acc,'bo',label='Training acc')\n",
        "plt.plot(epochs,val_acc,'b',label='Validation acc')\n",
        "plt.title('Training and validation accuracy')\n",
        "plt.xlabel('Epochs')\n",
        "plt.ylabel('Acurracy')\n",
        "plt.legend()\n",
        "\n",
        "plt.show()"
      ],
      "execution_count": 0,
      "outputs": [
        {
          "output_type": "display_data",
          "data": {
            "image/png": "[encoded data removed]",
            "text/plain": [
              "<Figure size 432x288 with 1 Axes>"
            ]
          },
          "metadata": {
            "tags": []
          }
        }
      ]
    },
    {
      "cell_type": "code",
      "metadata": {
        "id": "1-iAznSy7ZjN",
        "colab_type": "code",
        "colab": {}
      },
      "source": [
        ""
      ],
      "execution_count": 0,
      "outputs": []
    }
  ]
}